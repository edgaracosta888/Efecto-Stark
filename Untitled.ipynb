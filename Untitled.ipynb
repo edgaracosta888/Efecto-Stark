{
 "cells": [
  {
   "cell_type": "markdown",
   "metadata": {},
   "source": [
    "# PROJECTS N° 4 (STARK EFFECT IN HYDROGEN ATOM)"
   ]
  },
  {
   "cell_type": "markdown",
   "metadata": {},
   "source": [
    "## Consider the Schrödinger equation for hydrogen atom in different coordinates and in the presence of the electric field\n",
    "## Task1. \n",
    "##### Present the procedure of the separation variables in spherical coordinates Schrödinger equation in spherical coordinates and solve the differential equation for the radial part numerically by using the shooting or trigonometric sweep or Numerov method and find the lower energies. Compare obtained results with exact values and verify that the energies do not depend on the orbital quantum number. "
   ]
  },
  {
   "cell_type": "markdown",
   "metadata": {},
   "source": [
    "Se considera un átomo de Hidrógeno en su estado basal inmerso en un campo eléctrico uniforme, cuya dirección por simplicidad se tomará a lo largo del eje $z$. La energía potencial coulombiana de una carga debida a su interacción con un campo eléctrico es $\\bf V=q\\varepsilon z$, donde $\\varepsilon$ es la magnitud del campo eléctrico y $\\bf q$ en este caso es la carga del electrón.\n",
    "De acuerdo a esto, la perturbación del Hamiltoniano para el átomo de hidrógeno es: $\\bf H'=q\\varepsilon z$.\n",
    "Entonces para el estado basal se tiene:"
   ]
  },
  {
   "cell_type": "markdown",
   "metadata": {},
   "source": [
    "## $H_0\\Psi_\\it{nlm}=E_n\\Psi_{nlm}$"
   ]
  },
  {
   "cell_type": "markdown",
   "metadata": {},
   "source": [
    "Para el estado basal, el número cuántico principal toma el valor $\\bf\\it n=1$, y aplicando la perturbación del campo eléctrico, la ecuación del Schrödinger toma la forma:"
   ]
  },
  {
   "cell_type": "markdown",
   "metadata": {},
   "source": [
    "## $(H_0+H')\\Psi_{100}=E'_{100}\\Psi_{100}$"
   ]
  },
  {
   "cell_type": "markdown",
   "metadata": {},
   "source": [
    "Ahora como se sabe que para el estado basal del átomo de Hidrógeno la función de onda debidamente normalizada es:"
   ]
  },
  {
   "cell_type": "markdown",
   "metadata": {},
   "source": [
    "## $\\Psi_{100}=\\frac{1}{\\sqrt{\\pi a_0^3}}e^{-r/a_0}$"
   ]
  },
  {
   "cell_type": "markdown",
   "metadata": {},
   "source": [
    "donde $\\bf a_0$ es el radio de Bohr"
   ]
  },
  {
   "cell_type": "markdown",
   "metadata": {},
   "source": [
    "Usando coordenadas esféricas se tiene $\\bf z=r\\cos\\theta$"
   ]
  },
  {
   "cell_type": "markdown",
   "metadata": {},
   "source": [
    "## $E_{100}^{(1)}=\\langle\\Psi_{100}\\mid q\\varepsilon z\\mid\\Psi_{100}\\rangle$"
   ]
  },
  {
   "cell_type": "markdown",
   "metadata": {},
   "source": [
    "## $ E_{100}^{(1)}=\\displaystyle\\int\\left( \\frac{1}{\\sqrt{\\pi a_0^3}}e^{-r/a_0} \\right)^*q\\varepsilon z\\left( \\frac{1}{\\sqrt{\\pi a_0^3}}e^{-r/a_0} \\right)r^2\\sin\\theta d\\theta d\\phi$"
   ]
  },
  {
   "cell_type": "markdown",
   "metadata": {},
   "source": [
    "De aquí se puede claramente ver que la integral en $theta$ da cero, por lo tanto se puede concluir que la corrección a primer orden para la energía del estado basal del átomo de hidrógeno es nula:"
   ]
  },
  {
   "cell_type": "markdown",
   "metadata": {},
   "source": [
    "## $E_{100}^{(1)}=0$"
   ]
  },
  {
   "cell_type": "markdown",
   "metadata": {},
   "source": [
    "Por lo anterior, se debe hacer la corrección a segundo orden, la cual está dada por:"
   ]
  },
  {
   "cell_type": "markdown",
   "metadata": {},
   "source": [
    "## $E_{100}^{(2)}=\\displaystyle\\sum_{\\it{nlm}\\neq 100}\\frac{\\mid \\langle\\Psi_\\it{nlm}\\mid H'\\mid\\Psi_{100}\\rangle \\mid^2}{E_{100}^{(0)}-E^{(0)}_\\it{nlm}}$"
   ]
  },
  {
   "cell_type": "markdown",
   "metadata": {},
   "source": [
    "## $E_{100}^{(2)}=\\varepsilon ^2q^2\\displaystyle\\sum_{\\it{nlm}\\neq 100}\\frac{\\mid \\langle\\Psi_\\it{nlm}\\mid z\\mid\\Psi_{100}\\rangle \\mid^2}{E_{100}^{(0)}-E^{(0)}_\\it{nlm}}$\n"
   ]
  },
  {
   "cell_type": "markdown",
   "metadata": {},
   "source": [
    "Usando separación de variables en coordenadas esféricas se tiene"
   ]
  },
  {
   "cell_type": "markdown",
   "metadata": {},
   "source": [
    "## 1) $\\langle\\Psi_{nml}\\mid z\\mid\\Psi_{100}\\rangle=\\displaystyle\\int\\left( R_\\it{nl}Y_{lm} \\right)^*r\\cos\\theta \\left( R_\\it{10}Y_{00} \\right)r^2\\sin\\phi drd\\theta d\\phi$"
   ]
  },
  {
   "cell_type": "markdown",
   "metadata": {},
   "source": [
    "Ahora, como se tiene la relación:"
   ]
  },
  {
   "cell_type": "markdown",
   "metadata": {},
   "source": [
    "## $Y_{00}\\cos\\theta=\\frac{\\sqrt{3}}{3}Y_{10}$"
   ]
  },
  {
   "cell_type": "markdown",
   "metadata": {},
   "source": [
    "la expresión 1) toma la forma"
   ]
  },
  {
   "cell_type": "markdown",
   "metadata": {},
   "source": [
    "## $\\langle\\Psi_{nml}\\mid z\\mid\\Psi_{100}\\rangle=\\frac{\\sqrt{3}}{3}\\displaystyle\\int r^3R^*_\\it{nl}R_{10}dr\\int Y^*_\\it{nl}Y_{10}d\\theta d\\phi$"
   ]
  },
  {
   "cell_type": "markdown",
   "metadata": {},
   "source": [
    "Y como los armónicos esféricos son funciones ortonormales, la anterior expresión toma la forma"
   ]
  },
  {
   "cell_type": "markdown",
   "metadata": {},
   "source": [
    "## $\\langle\\Psi_{nml}\\mid z\\mid\\Psi_{100}\\rangle=\\frac{\\sqrt{3}}{3}\\delta_{l1}\\delta_{m0}\\displaystyle\\int r^3R^*_\\it{nl}R_{10}dr$"
   ]
  },
  {
   "cell_type": "markdown",
   "metadata": {},
   "source": [
    "La solución analítica para esta expresión es:"
   ]
  },
  {
   "cell_type": "markdown",
   "metadata": {},
   "source": [
    "## $\\mid\\langle\\Psi_{nml}\\mid z\\mid\\Psi_{100}\\rangle\\mid^2=\\frac{256}{3}\\frac{n^7(n-1)^{2n-5}}{(n+1)^{2n+5}}a_0^2\\delta_{l1}\\delta_{m0}$"
   ]
  },
  {
   "cell_type": "markdown",
   "metadata": {},
   "source": [
    "Ahora, reemplazando la expresión anterior en:"
   ]
  },
  {
   "cell_type": "markdown",
   "metadata": {},
   "source": [
    "## $E_{100}^{(2)}=\\varepsilon ^2q^2\\displaystyle\\sum_{\\it{nlm}\\neq 100}\\frac{\\mid \\langle\\Psi_\\it{nlm}\\mid z\\mid\\Psi_{100}\\rangle \\mid^2}{E_{100}^{(0)}-E^{(0)}_\\it{nlm}}$\n"
   ]
  },
  {
   "cell_type": "markdown",
   "metadata": {},
   "source": [
    "se tiene evaluando los primeros términmos de la suma:"
   ]
  },
  {
   "cell_type": "markdown",
   "metadata": {},
   "source": [
    "## $E^{(2)}_{100}=-\\frac{9}{4}a_0^3\\varepsilon^2$"
   ]
  },
  {
   "cell_type": "markdown",
   "metadata": {},
   "source": [
    "Y entonces los niveles de energía para el átomo de Hidrógeno inmerso en un campo eléctrico constante de magnitud $\\varepsilon$ están dados por:"
   ]
  },
  {
   "cell_type": "markdown",
   "metadata": {},
   "source": [
    "## $E'_{100}=-\\frac{e^2}{2a_0}-\\frac{9}{4}a_0^3\\varepsilon^2 +...$"
   ]
  },
  {
   "cell_type": "code",
   "execution_count": 2,
   "metadata": {
    "collapsed": false
   },
   "outputs": [],
   "source": [
    "from sympy import *\n",
    "import pandas as pd\n",
    "import numpy as np\n",
    "import matplotlib.pyplot as plt\n",
    "%matplotlib inline\n",
    "import numpy as np\n",
    "import matplotlib\n",
    "matplotlib.use(\"Agg\")\n",
    "import matplotlib.pyplot as plt\n",
    "import matplotlib.animation as animation\n",
    "from decimal import *"
   ]
  },
  {
   "cell_type": "code",
   "execution_count": 3,
   "metadata": {
    "collapsed": true
   },
   "outputs": [],
   "source": [
    "def f(E):\n",
    "    return -((np.e**2)/2*a)-(2.25*(E**2)*a**3)"
   ]
  },
  {
   "cell_type": "code",
   "execution_count": 4,
   "metadata": {
    "collapsed": true
   },
   "outputs": [],
   "source": [
    "x=np.linspace(0.,10,100)\n",
    "a=1.\n",
    "y=f(x)"
   ]
  },
  {
   "cell_type": "markdown",
   "metadata": {},
   "source": [
    "### La gráfica de la energía en función de la magnitud del campo eléctrico es:"
   ]
  },
  {
   "cell_type": "code",
   "execution_count": 23,
   "metadata": {
    "collapsed": false
   },
   "outputs": [
    {
     "data": {
      "text/plain": [
       "[<matplotlib.lines.Line2D at 0xa8a8b68c>]"
      ]
     },
     "execution_count": 23,
     "metadata": {},
     "output_type": "execute_result"
    },
    {
     "data": {
      "image/png": "[encoded data removed]",
      "text/plain": [
       "<matplotlib.figure.Figure at 0xa89f4d2c>"
      ]
     },
     "metadata": {},
     "output_type": "display_data"
    }
   ],
   "source": [
    "plt.figure()\n",
    "plt.xlabel('Campo Electrico',fontsize=18)\n",
    "plt.ylabel('Energia',fontsize=18)\n",
    "plt.plot(x,y)"
   ]
  },
  {
   "cell_type": "code",
   "execution_count": null,
   "metadata": {
    "collapsed": true
   },
   "outputs": [],
   "source": []
  }
 ],
 "metadata": {
  "kernelspec": {
   "display_name": "Python 2",
   "language": "python",
   "name": "python2"
  },
  "language_info": {
   "codemirror_mode": {
    "name": "ipython",
    "version": 2
   },
   "file_extension": ".py",
   "mimetype": "text/x-python",
   "name": "python",
   "nbconvert_exporter": "python",
   "pygments_lexer": "ipython2",
   "version": "2.7.11"
  }
 },
 "nbformat": 4,
 "nbformat_minor": 0
}
